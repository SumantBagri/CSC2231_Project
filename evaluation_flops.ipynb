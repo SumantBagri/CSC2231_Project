{
 "cells": [
  {
   "cell_type": "code",
   "execution_count": 1,
   "id": "8714407b-dda6-4685-b774-98655e7c6e77",
   "metadata": {},
   "outputs": [],
   "source": [
    "import tensorrt as trt\n",
    "import numpy as np\n"
   ]
  },
  {
   "cell_type": "code",
   "execution_count": 2,
   "id": "33c90f6c-c515-4f3a-9d92-ceb600189052",
   "metadata": {},
   "outputs": [],
   "source": [
    "# Load the TensorRT engine\n",
    "engine_file = 'resnet50_pytorch.trt'\n",
    "with open(engine_file, 'rb') as f:\n",
    "    engine_data = f.read()\n",
    "runtime = trt.Runtime(trt.Logger())\n",
    "engine = runtime.deserialize_cuda_engine(engine_data)"
   ]
  },
  {
   "cell_type": "code",
   "execution_count": 3,
   "id": "746a3ca5-da69-4250-8d84-9d3d043d4ac8",
   "metadata": {},
   "outputs": [
    {
     "data": {
      "text/plain": [
       "57"
      ]
     },
     "execution_count": 3,
     "metadata": {},
     "output_type": "execute_result"
    }
   ],
   "source": [
    "engine.num_layers"
   ]
  },
  {
   "cell_type": "code",
   "execution_count": 4,
   "id": "acba616d-6f28-4c23-b7d8-e0391ed0cc29",
   "metadata": {},
   "outputs": [
    {
     "data": {
      "text/plain": [
       "['__class__',\n",
       " '__del__',\n",
       " '__delattr__',\n",
       " '__dir__',\n",
       " '__doc__',\n",
       " '__enter__',\n",
       " '__eq__',\n",
       " '__exit__',\n",
       " '__format__',\n",
       " '__ge__',\n",
       " '__getattribute__',\n",
       " '__getitem__',\n",
       " '__gt__',\n",
       " '__hash__',\n",
       " '__init__',\n",
       " '__init_subclass__',\n",
       " '__le__',\n",
       " '__len__',\n",
       " '__lt__',\n",
       " '__module__',\n",
       " '__ne__',\n",
       " '__new__',\n",
       " '__reduce__',\n",
       " '__reduce_ex__',\n",
       " '__repr__',\n",
       " '__setattr__',\n",
       " '__sizeof__',\n",
       " '__str__',\n",
       " '__subclasshook__',\n",
       " 'binding_is_input',\n",
       " 'create_engine_inspector',\n",
       " 'create_execution_context',\n",
       " 'create_execution_context_without_device_memory',\n",
       " 'device_memory_size',\n",
       " 'engine_capability',\n",
       " 'error_recorder',\n",
       " 'get_binding_bytes_per_component',\n",
       " 'get_binding_components_per_element',\n",
       " 'get_binding_dtype',\n",
       " 'get_binding_format',\n",
       " 'get_binding_format_desc',\n",
       " 'get_binding_index',\n",
       " 'get_binding_name',\n",
       " 'get_binding_shape',\n",
       " 'get_binding_vectorized_dim',\n",
       " 'get_location',\n",
       " 'get_profile_shape',\n",
       " 'get_profile_shape_input',\n",
       " 'has_implicit_batch_dimension',\n",
       " 'is_execution_binding',\n",
       " 'is_shape_binding',\n",
       " 'max_batch_size',\n",
       " 'name',\n",
       " 'num_bindings',\n",
       " 'num_layers',\n",
       " 'num_optimization_profiles',\n",
       " 'profiling_verbosity',\n",
       " 'refittable',\n",
       " 'serialize',\n",
       " 'tactic_sources']"
      ]
     },
     "execution_count": 4,
     "metadata": {},
     "output_type": "execute_result"
    }
   ],
   "source": [
    "dir(engine)"
   ]
  },
  {
   "cell_type": "code",
   "execution_count": 5,
   "id": "65f0a13e-0ebd-4186-8e62-7a1e2d7658d3",
   "metadata": {},
   "outputs": [
    {
     "data": {
      "text/plain": [
       "'input.1'"
      ]
     },
     "execution_count": 5,
     "metadata": {},
     "output_type": "execute_result"
    }
   ],
   "source": [
    "engine[0]"
   ]
  },
  {
   "cell_type": "code",
   "execution_count": 7,
   "id": "70b5ba5a-bef5-4e5b-97d3-eada64dafd43",
   "metadata": {},
   "outputs": [
    {
     "data": {
      "text/plain": [
       "'495'"
      ]
     },
     "execution_count": 7,
     "metadata": {},
     "output_type": "execute_result"
    }
   ],
   "source": [
    "engine[1]"
   ]
  },
  {
   "cell_type": "code",
   "execution_count": 10,
   "id": "e2329c57-e92e-43d3-92e9-fe2f0d001dde",
   "metadata": {},
   "outputs": [
    {
     "data": {
      "text/plain": [
       "231211008"
      ]
     },
     "execution_count": 10,
     "metadata": {},
     "output_type": "execute_result"
    }
   ],
   "source": [
    "engine.device_memory_size"
   ]
  },
  {
   "cell_type": "code",
   "execution_count": 13,
   "id": "b329e5c7-e25b-4eae-b6d1-adeadf39d2e2",
   "metadata": {},
   "outputs": [
    {
     "data": {
      "text/plain": [
       "'{\"Layers\": [\"Conv_0 + Relu_1\"\\n,\"MaxPool_2\"\\n,\"Conv_3 + Relu_4\"\\n,\"Conv_5 + Relu_6\"\\n,\"Conv_8\"\\n,\"Conv_7 + Add_9 + Relu_10\"\\n,\"Conv_11 + Relu_12\"\\n,\"Conv_13 + Relu_14\"\\n,\"Conv_15 + Add_16 + Relu_17\"\\n,\"Conv_18 + Relu_19\"\\n,\"Conv_20 + Relu_21\"\\n,\"Conv_22 + Add_23 + Relu_24\"\\n,\"Conv_25 + Relu_26\"\\n,\"Conv_27 + Relu_28\"\\n,\"Conv_30\"\\n,\"Conv_29 + Add_31 + Relu_32\"\\n,\"Conv_33 + Relu_34\"\\n,\"Conv_35 + Relu_36\"\\n,\"Conv_37 + Add_38 + Relu_39\"\\n,\"Conv_40 + Relu_41\"\\n,\"Conv_42 + Relu_43\"\\n,\"Conv_44 + Add_45 + Relu_46\"\\n,\"Conv_47 + Relu_48\"\\n,\"Conv_49 + Relu_50\"\\n,\"Conv_51 + Add_52 + Relu_53\"\\n,\"Conv_54 + Relu_55\"\\n,\"Conv_56 + Relu_57\"\\n,\"Conv_59\"\\n,\"Conv_58 + Add_60 + Relu_61\"\\n,\"Conv_62 + Relu_63\"\\n,\"Conv_64 + Relu_65\"\\n,\"Conv_66 + Add_67 + Relu_68\"\\n,\"Conv_69 + Relu_70\"\\n,\"Conv_71 + Relu_72\"\\n,\"Conv_73 + Add_74 + Relu_75\"\\n,\"Conv_76 + Relu_77\"\\n,\"Conv_78 + Relu_79\"\\n,\"Conv_80 + Add_81 + Relu_82\"\\n,\"Conv_83 + Relu_84\"\\n,\"Conv_85 + Relu_86\"\\n,\"Conv_87 + Add_88 + Relu_89\"\\n,\"Conv_90 + Relu_91\"\\n,\"Conv_92 + Relu_93\"\\n,\"Conv_94 + Add_95 + Relu_96\"\\n,\"Conv_97 + Relu_98\"\\n,\"Conv_99 + Relu_100\"\\n,\"Conv_102\"\\n,\"Conv_101 + Add_103 + Relu_104\"\\n,\"Conv_105 + Relu_106\"\\n,\"Conv_107 + Relu_108\"\\n,\"Conv_109 + Add_110 + Relu_111\"\\n,\"Conv_112 + Relu_113\"\\n,\"Conv_114 + Relu_115\"\\n,\"Conv_116 + Add_117 + Relu_118\"\\n,\"GlobalAveragePool_119\"\\n,\"Gemm_121\"\\n,\"(Unnamed Layer* 123) [Shuffle]\"\\n],\\n\"Bindings\": [\"input.1\"\\n,\"495\"\\n]}\\n'"
      ]
     },
     "execution_count": 13,
     "metadata": {},
     "output_type": "execute_result"
    }
   ],
   "source": [
    "engine.create_engine_inspector().get_engine_information(trt.LayerInformationFormat.JSON)"
   ]
  },
  {
   "cell_type": "code",
   "execution_count": null,
   "id": "60641afc-3fa3-48fd-8e8b-ed6e53d44cb9",
   "metadata": {},
   "outputs": [],
   "source": []
  }
 ],
 "metadata": {
  "kernelspec": {
   "display_name": "Python 3",
   "language": "python",
   "name": "python3"
  },
  "language_info": {
   "codemirror_mode": {
    "name": "ipython",
    "version": 3
   },
   "file_extension": ".py",
   "mimetype": "text/x-python",
   "name": "python",
   "nbconvert_exporter": "python",
   "pygments_lexer": "ipython3",
   "version": "3.6.9"
  }
 },
 "nbformat": 4,
 "nbformat_minor": 5
}
