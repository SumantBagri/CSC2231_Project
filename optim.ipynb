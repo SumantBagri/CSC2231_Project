{
 "cells": [
  {
   "cell_type": "code",
   "execution_count": 1,
   "metadata": {},
   "outputs": [],
   "source": [
    "import os\n",
    "os.environ['CUDA_MODULE_LOADING']='LAZY'\n",
    "\n",
    "import onnxruntime as rt\n"
   ]
  },
  {
   "cell_type": "code",
   "execution_count": 4,
   "metadata": {},
   "outputs": [],
   "source": [
    "sess_opts = rt.SessionOptions()\n",
    "sess_opts.optimized_model_filepath = \"output/optim/uldm_fp16_cuda_optimized.onnx\"\n",
    "session = rt.InferenceSession(\"output/optim/uldm_unet_fp16.onnx\", sess_options=sess_opts, providers=['CUDAExecutionProvider', 'CPUExecutionProvider'])"
   ]
  }
 ],
 "metadata": {
  "kernelspec": {
   "display_name": "csc2231",
   "language": "python",
   "name": "python3"
  },
  "language_info": {
   "codemirror_mode": {
    "name": "ipython",
    "version": 3
   },
   "file_extension": ".py",
   "mimetype": "text/x-python",
   "name": "python",
   "nbconvert_exporter": "python",
   "pygments_lexer": "ipython3",
   "version": "3.9.15"
  },
  "orig_nbformat": 4
 },
 "nbformat": 4,
 "nbformat_minor": 2
}
