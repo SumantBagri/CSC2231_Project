{
 "cells": [
  {
   "cell_type": "code",
   "execution_count": null,
   "metadata": {},
   "outputs": [],
   "source": [
    "%load_ext memory_profiler"
   ]
  },
  {
   "cell_type": "code",
   "execution_count": null,
   "metadata": {},
   "outputs": [],
   "source": [
    "import torch\n",
    "import matplotlib.pyplot as plt\n",
    "\n",
    "from ldm_uncond.latent_diffusion_uncond import LDMPipeline\n",
    "\n",
    "DTYPE = torch.float16\n",
    "DEVICE = torch.device('cuda')"
   ]
  },
  {
   "attachments": {},
   "cell_type": "markdown",
   "metadata": {},
   "source": [
    "### Init pipeline, move to device and warmup"
   ]
  },
  {
   "cell_type": "code",
   "execution_count": null,
   "metadata": {},
   "outputs": [],
   "source": [
    "diffusion_pipeline = LDMPipeline()\n",
    "\n",
    "diffusion_pipeline = diffusion_pipeline.to(device=DEVICE, dtype=DTYPE)\n",
    "diffusion_pipeline.eval()\n",
    "diffusion_pipeline.warmup()"
   ]
  },
  {
   "attachments": {},
   "cell_type": "markdown",
   "metadata": {},
   "source": [
    "### Sample an image and measure time"
   ]
  },
  {
   "cell_type": "code",
   "execution_count": null,
   "metadata": {},
   "outputs": [],
   "source": [
    "%%time\n",
    "## Generate sample\n",
    "\n",
    "noise = torch.randn((1, 3, 64, 64), dtype=DTYPE, device=DEVICE)\n",
    "# with torch.cuda.amp.autocast():\n",
    "%timeit %memit sample = diffusion_pipeline(noise)"
   ]
  },
  {
   "attachments": {},
   "cell_type": "markdown",
   "metadata": {},
   "source": [
    "### Visualize sample"
   ]
  },
  {
   "cell_type": "code",
   "execution_count": null,
   "metadata": {},
   "outputs": [],
   "source": [
    "plt.imshow(sample.cpu().float().numpy()[0]/255)"
   ]
  },
  {
   "attachments": {},
   "cell_type": "markdown",
   "metadata": {},
   "source": [
    "### Load optimized UNet"
   ]
  },
  {
   "cell_type": "code",
   "execution_count": null,
   "metadata": {},
   "outputs": [],
   "source": [
    "optimized_diffusion_pipeline = LDMPipeline()\n",
    "\n",
    "optimized_diffusion_pipeline = optimized_diffusion_pipeline.to(device=DEVICE, dtype=DTYPE)\n",
    "optimized_diffusion_pipeline.load_optimized_unet(\"uldm_unet_fp16_sim.ts\")\n",
    "optimized_diffusion_pipeline.eval()\n",
    "optimized_diffusion_pipeline.warmup()"
   ]
  },
  {
   "attachments": {},
   "cell_type": "markdown",
   "metadata": {},
   "source": [
    "### Sample from optimized network"
   ]
  },
  {
   "cell_type": "code",
   "execution_count": null,
   "metadata": {},
   "outputs": [],
   "source": [
    "%%time\n",
    "## Generate sample\n",
    "\n",
    "noise = torch.randn((1, 3, 64, 64), dtype=DTYPE, device=DEVICE)\n",
    "# with torch.cuda.amp.autocast():\n",
    "%timeit %memit sample = optimized_diffusion_pipeline(noise)"
   ]
  },
  {
   "attachments": {},
   "cell_type": "markdown",
   "metadata": {},
   "source": [
    "### Visualize sample from optimized model"
   ]
  },
  {
   "cell_type": "code",
   "execution_count": null,
   "metadata": {},
   "outputs": [],
   "source": [
    "plt.imshow(sample.cpu().float().numpy()[0]/255)"
   ]
  }
 ],
 "metadata": {
  "kernelspec": {
   "display_name": "csc2231",
   "language": "python",
   "name": "python3"
  },
  "language_info": {
   "codemirror_mode": {
    "name": "ipython",
    "version": 3
   },
   "file_extension": ".py",
   "mimetype": "text/x-python",
   "name": "python",
   "nbconvert_exporter": "python",
   "pygments_lexer": "ipython3",
   "version": "3.9.15"
  },
  "orig_nbformat": 4
 },
 "nbformat": 4,
 "nbformat_minor": 2
}
